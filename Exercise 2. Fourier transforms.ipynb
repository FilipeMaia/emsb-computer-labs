{
 "cells": [
  {
   "cell_type": "markdown",
   "metadata": {},
   "source": [
    "# Exercise 2. Fourier transforms\n",
    "In this exercise we will explore some of the aspects of the fourier transform. We will use 1D Fourier transforms here but everything will also be true for 2D and 3D Fourier transforms."
   ]
  },
  {
   "cell_type": "code",
   "execution_count": null,
   "metadata": {
    "scrolled": false
   },
   "outputs": [],
   "source": [
    "%matplotlib inline\n",
    "from numpy import *\n",
    "from matplotlib.pyplot import *\n",
    "from emsb import *"
   ]
  },
  {
   "cell_type": "markdown",
   "metadata": {},
   "source": [
    "## Exercise 2a\n",
    "To illustrate what we are doing we will use the function <code>plot_complex</code>. By default, it will plot the absolute value and that phase of the array that you give it. First, let's create an array called <code>a</code> and try to plot it."
   ]
  },
  {
   "cell_type": "code",
   "execution_count": null,
   "metadata": {},
   "outputs": [],
   "source": [
    "a = array([1, 2, 4, 3, 3, 5, 5, 4, 1])\n",
    "plot_complex(a)"
   ]
  },
  {
   "cell_type": "markdown",
   "metadata": {},
   "source": [
    "The phases in the above plot are all 0 since the array <code>a</code> that we created actually didn't have any complex values. In the next cell, we will use the related function <code>plot_fourier_transform</code> that will calculate and plot the Fourier transform of the array that you give it. Here you should see non-zero values for both the absolute value and the phase."
   ]
  },
  {
   "cell_type": "code",
   "execution_count": null,
   "metadata": {},
   "outputs": [],
   "source": [
    "plot_fourier_transform(a)"
   ]
  },
  {
   "cell_type": "markdown",
   "metadata": {},
   "source": [
    "The absolute values are all smooth in the plot above but the phase plot might contain a few places where it looks like it makes very fast jumps. Why is that?"
   ]
  },
  {
   "cell_type": "markdown",
   "metadata": {},
   "source": [
    "<b>Answer:</b>"
   ]
  },
  {
   "cell_type": "markdown",
   "metadata": {},
   "source": [
    "Now try to go back and change the values in <code>a</code> and replot the Fourier transform. What properties of the Fourier transform seem to stay the same regardless of what changes you do? (I found at least 3 features). <b>List those features below</b>"
   ]
  },
  {
   "cell_type": "markdown",
   "metadata": {},
   "source": [
    "<b>Answer:</b>\n"
   ]
  },
  {
   "cell_type": "markdown",
   "metadata": {},
   "source": [
    "## Exercise 2b\n",
    "Now, let's create an array with complex values and look at the Fourier transform of it. We have created the array and plotted the real values but you <b>have to plot the Fourier transform</b>."
   ]
  },
  {
   "cell_type": "code",
   "execution_count": null,
   "metadata": {},
   "outputs": [],
   "source": [
    "a = complex(array([1, 2, 4, 3, 3, 5, 5, 4, 1]),\n",
    "            array([0, 2, 1, 0, 1, 3, 2, 1, 0]))\n",
    "plot_complex(a)\n",
    "# Add your code here"
   ]
  },
  {
   "cell_type": "markdown",
   "metadata": {},
   "source": [
    "<b>Do you notice any interesting differences compared to the previous Fourier transforms?</b> (no is not an acceptable answer)"
   ]
  },
  {
   "cell_type": "markdown",
   "metadata": {},
   "source": [
    "<b>Answer:</b>\n"
   ]
  },
  {
   "cell_type": "markdown",
   "metadata": {},
   "source": [
    "## Exercise 2c"
   ]
  },
  {
   "cell_type": "markdown",
   "metadata": {},
   "source": [
    "We will now explore what happens to the Fourier transform of an object if we increase the pixel size in real space. We start by creating a real-space array as our starting point. Here we use the function <code>random</code> to create an array of random numbers."
   ]
  },
  {
   "cell_type": "code",
   "execution_count": null,
   "metadata": {},
   "outputs": [],
   "source": [
    "a = random(30)\n",
    "plot(a)"
   ]
  },
  {
   "cell_type": "markdown",
   "metadata": {},
   "source": [
    "Now we want to create a version where the pixel size is twice as large. This can be done by merging two adjacent pixels. We use a bit of python trickery for this, don't worry if you don't understand the following line, it's not the purpose of this lab. By default all the plotting commands that we use assume that each element is 1 nm wide. After binning this is no longer true and therefore we had to manually set the width to 2 nm with the argument <code>dx=2e-9</code>."
   ]
  },
  {
   "cell_type": "code",
   "execution_count": null,
   "metadata": {},
   "outputs": [],
   "source": [
    "a_binned = a[0::2] + a[1::2]\n",
    "plot(a_binned, dx=2e-9)"
   ]
  },
  {
   "cell_type": "markdown",
   "metadata": {},
   "source": [
    "<b> Which of the two arrays <code>a</code> and <code>a_binned</code> has the higher resolution?"
   ]
  },
  {
   "cell_type": "markdown",
   "metadata": {},
   "source": [
    "<b>Answer:</b>\n"
   ]
  },
  {
   "cell_type": "markdown",
   "metadata": {},
   "source": [
    "<b>Now plot the Fourier transform of both arrays and compare them.</b> Don't forget to use the correct <code>dx</code> in each case."
   ]
  },
  {
   "cell_type": "code",
   "execution_count": null,
   "metadata": {},
   "outputs": [],
   "source": [
    "# Add your code here"
   ]
  },
  {
   "cell_type": "markdown",
   "metadata": {},
   "source": [
    "<b>How do they compare to each other? Can you formulate a conclusion connecting resolution in real space and \"something\" in Fourier space?</b>"
   ]
  },
  {
   "cell_type": "markdown",
   "metadata": {},
   "source": [
    "<b>Answer:</b>"
   ]
  },
  {
   "cell_type": "markdown",
   "metadata": {},
   "source": [
    "## Exercise 2d\n",
    "For this exercise I want you to <b>create an array, <code>a</code>, around 10 elements long</b> in the same way as you did in exercise 2a. You can choose the values yourself though, but make the first and last value 0 to make it more clear where it starts and ends."
   ]
  },
  {
   "cell_type": "code",
   "execution_count": null,
   "metadata": {},
   "outputs": [],
   "source": [
    "# Add your code here"
   ]
  },
  {
   "cell_type": "markdown",
   "metadata": {},
   "source": [
    "In the next cell I have used the command <code>concatenate</code> to add 100 zeros on both sides of the original array. Plot the resulting array and the Fourier transform of it."
   ]
  },
  {
   "cell_type": "code",
   "execution_count": null,
   "metadata": {},
   "outputs": [],
   "source": [
    "# Add your code here"
   ]
  },
  {
   "cell_type": "markdown",
   "metadata": {},
   "source": [
    "Finally we are ready to see where this exercise is going: we will create a crystal by joining many repetitions of the same object after each other. You can do this using the function <code>repeat(a, n)</code> which will repeat the array <code>a</code> <code>n</code> times.\n",
    "\n",
    "<b>Plot both the real and Fourier space of the crystal.</b> Work your way up from 1 or 2 repeats up to at least 10. How does diffraction from a crystal look like compared to that of an isolated particle? Pay attention both to the shape of the \"Abs\" plot but also the height of the peaks. You don't need to pay much attention to the phase however."
   ]
  },
  {
   "cell_type": "code",
   "execution_count": null,
   "metadata": {},
   "outputs": [],
   "source": [
    "# Add your code here"
   ]
  },
  {
   "cell_type": "markdown",
   "metadata": {},
   "source": [
    "<b>Describe what is happening as your crystal becomes larger.</b>"
   ]
  },
  {
   "cell_type": "markdown",
   "metadata": {},
   "source": [
    "<b>Answer:</b>\n"
   ]
  },
  {
   "cell_type": "code",
   "execution_count": null,
   "metadata": {},
   "outputs": [],
   "source": []
  }
 ],
 "metadata": {
  "kernelspec": {
   "display_name": "Python 3",
   "language": "python",
   "name": "python3"
  },
  "language_info": {
   "codemirror_mode": {
    "name": "ipython",
    "version": 3
   },
   "file_extension": ".py",
   "mimetype": "text/x-python",
   "name": "python",
   "nbconvert_exporter": "python",
   "pygments_lexer": "ipython3",
   "version": "3.7.2"
  }
 },
 "nbformat": 4,
 "nbformat_minor": 4
}
