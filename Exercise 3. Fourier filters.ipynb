{
 "cells": [
  {
   "cell_type": "markdown",
   "metadata": {},
   "source": [
    "# Exercise 3. Fourier filters\n",
    "Now we will finally look at some 2D images and what the Fourier transform does to them."
   ]
  },
  {
   "cell_type": "code",
   "execution_count": null,
   "metadata": {},
   "outputs": [],
   "source": [
    "%matplotlib inline\n",
    "from numpy import *\n",
    "from matplotlib.pyplot import *\n",
    "from emsb import *"
   ]
  },
  {
   "cell_type": "markdown",
   "metadata": {},
   "source": [
    "## Exercise 3a\n",
    "We have a few convenience functions to create geometric figures like this for example: <code>square(width)</code><br>\n",
    "that creates a 2D array of 300x300 pixels with a square with a size of <code>width</code>. In the next cell we show how to use it and show it using the function <code>imshow</code>."
   ]
  },
  {
   "cell_type": "code",
   "execution_count": null,
   "metadata": {},
   "outputs": [],
   "source": [
    "a = square(30)\n",
    "imshow(a)"
   ]
  },
  {
   "cell_type": "markdown",
   "metadata": {},
   "source": [
    "Now familiarize yourself with the other similar functions. <b>Try to show</b> <code>rectangle(width, height)</code>, <code>triangle(width)</code>, <code>circle(diameter)</code>, <code>oval(axis1, axis2)</code> in the cell below:"
   ]
  },
  {
   "cell_type": "code",
   "execution_count": null,
   "metadata": {},
   "outputs": [],
   "source": [
    "# Add your code here"
   ]
  },
  {
   "cell_type": "markdown",
   "metadata": {},
   "source": [
    "<b>Now have a look at the Fourier transforms of these geometric figures.</b> In the previous exercise there was a combined function to calculate and show the Fourier transform but that is not available here. Instead you have to use the function <code>a_ft = fourier_transform(a)</code> to calculate the Fourier transform and then you can show the result with <code>imshow_complex</code> which is a special version of the <code>imshow</code> function that you used above but that can handle complex values."
   ]
  },
  {
   "cell_type": "markdown",
   "metadata": {},
   "source": [
    "The \"Phase\" part of the image might seems confusing. For some objects it will only have values of $0$ and $\\pi$, signaling that the array is real-valued, while for others it will include any possible angle. For the exercises here you don't need to pay too much attention to it."
   ]
  },
  {
   "cell_type": "code",
   "execution_count": null,
   "metadata": {
    "scrolled": false
   },
   "outputs": [],
   "source": [
    "# Add your code here"
   ]
  },
  {
   "cell_type": "markdown",
   "metadata": {},
   "source": [
    "Now try to change the size of the object. <b>Describe what happens to the Fourier transform when you make the object larger or smaller respectively.</b>"
   ]
  },
  {
   "cell_type": "markdown",
   "metadata": {},
   "source": [
    "<b>Answer:</b>\n"
   ]
  },
  {
   "cell_type": "markdown",
   "metadata": {},
   "source": [
    "## Exercise 3b\n",
    "For the next exercise, choose one of the geometric figures above, except for the circle. The reason for not choosing the circle is that we will now investigate what happens to the Fourier transform when you rotate an object. Use the function <code>rotate(array, angle)</code> to create a rotated version of the initial shape (the angle is given in radians by the way). Show the Fourier transform of the original and the rotated shape and repeat this for a few different angles. <b>How is the Fourier transform affected by the rotation?</b>"
   ]
  },
  {
   "cell_type": "markdown",
   "metadata": {},
   "source": [
    "<b>Answer:</b>"
   ]
  },
  {
   "cell_type": "code",
   "execution_count": null,
   "metadata": {},
   "outputs": [],
   "source": [
    "# Add your code here"
   ]
  },
  {
   "cell_type": "markdown",
   "metadata": {},
   "source": [
    "## Exercise 3c\n",
    "We will now investigate what happens if you remove, by setting to zero, different parts of the Fourier transform. <b>Your task is therefore to:</b> (and make sure to show intermediate results while you are working to see what is going on)<br>\n",
    "1. Choose an object to work with, such as a triangle or a square. Make the size at least 60 to make it easier to see what is going on<br>\n",
    "2. Calculate and show its Fourier transform.<br>\n",
    "3. Remove all values more than a radius of 40 pixels away from the center. (Hint: you can achieve this by multiplying the Fourier transformed array with the output from the <code>circle</code> function)<br>\n",
    "4. Inverse Fourier transform the result to get back a real-space image (you can use <code>inverse_fourier_transform(a)</code><br>\n",
    "5. Show the absolute value of the result."
   ]
  },
  {
   "cell_type": "code",
   "execution_count": null,
   "metadata": {},
   "outputs": [],
   "source": [
    "# Add your code here"
   ]
  },
  {
   "cell_type": "markdown",
   "metadata": {},
   "source": [
    "Repeat the above for different values for the cutoff radius in Fourier space. <b>Describe what happens as you go lower or higher respectively and try to explain the why.</b>"
   ]
  },
  {
   "cell_type": "markdown",
   "metadata": {},
   "source": [
    "<b>Answer:</b>\n",
    "    "
   ]
  },
  {
   "cell_type": "markdown",
   "metadata": {},
   "source": [
    "## Exercise 3d\n",
    "Repeat the previous exercise but this time, remove the values in the center and keep the values at higher radius. To accomplish this you will have to change the output of <code>circle</code> so that zeros become ones and vice versa, with something like <code>(1-circle(diameter))</code> )"
   ]
  },
  {
   "cell_type": "code",
   "execution_count": null,
   "metadata": {},
   "outputs": [],
   "source": [
    "# Add your code here"
   ]
  },
  {
   "cell_type": "markdown",
   "metadata": {},
   "source": [
    "<b>What are you seeing and why?</b>"
   ]
  },
  {
   "cell_type": "markdown",
   "metadata": {},
   "source": [
    "<b>Answer:</b>\n"
   ]
  },
  {
   "cell_type": "markdown",
   "metadata": {},
   "source": [
    "## Exercise 3e\n",
    "The effects in the two previous examples are often desired in both analysis of image data but also when editing photographs in software such as Photoshop. Usually one does however want to avoid the ringing outside of the shape. This ringing arises since we use a sharp cutoff in Fourier space so now we will try to get rid of it by instead gradually dampen the values in Fourier space the further out from the center they are.\n",
    "\n",
    "One way to do this is to multiply the Fourier space array with a 2D Gaussian function which is available from the function <code>gaussian(sigma)</code> instead of the circle used earlier. <b>Show the results for several values of <code>sigma</code> in the range from 2 to 15 pixels.</b>"
   ]
  },
  {
   "cell_type": "code",
   "execution_count": null,
   "metadata": {},
   "outputs": [],
   "source": [
    "# Add your code here"
   ]
  },
  {
   "cell_type": "markdown",
   "metadata": {},
   "source": [
    "## Exercise 3f\n",
    "The effect we created in exercise 3e is called blur and is just one of many examples of image manipulation techniques that involve Fourier space. We will now implement a more advanced image filter that is called Unsharp mask and is used to enhance contrast in images.<br>\n",
    "The Unsharp mask works by combining the original image with the inverse of a blurred version. So you can reuse the blurring code from the previous exercise. More concretely the process looks like this:\n",
    "<code>sharpened = original + (original - blurred) * amount</code><br><br>\n",
    "\n",
    "The amount here is a value that determines how strong the effect is. Try different values but you can start around 1. For the blurring you need to choose a sigma, and values around 30 typically work well.<br>\n",
    "<b>Use the unsharp mask on one of the basic figures, such as a triangle, and look at the result.</b><br>\n",
    "You should see the same figure but are just around the edge are increased and decreased respectively to make the edge look stronger."
   ]
  },
  {
   "cell_type": "code",
   "execution_count": null,
   "metadata": {},
   "outputs": [],
   "source": [
    "original = triangle(100)\n",
    "original_ft = fourier_transform(original)\n",
    "blurred = inverse_fourier_transform(original_ft*gaussian(30))\n",
    "sharpened = original + (original-blurred)*1\n",
    "imshow(original)\n",
    "imshow(sharpened)"
   ]
  },
  {
   "cell_type": "markdown",
   "metadata": {},
   "source": [
    "## Exercise 3g\n",
    "Now we will try the same unsharp mask code on a real image. In the next cell I have imported a picture of your lecturer, Filipe Maia. First show it as it is. Our goal here will be to apply an unsharp mask that makes individual strands of hair and his beard more visible. To start with you can use the same parameters as in the previous exercise but do play around with different values to see their effect.\n",
    "To make sure that the before and after images are shown with the same range for the color scale I suggest to explicitly set it by using the arguments <code>vmin</code> and <code>vmax</code> like this:<br>\n",
    "<code>imshow(original, vmin=0, vmax=1)</code>"
   ]
  },
  {
   "cell_type": "code",
   "execution_count": null,
   "metadata": {},
   "outputs": [],
   "source": [
    "original = imread(\"data/filipe.png\")\n",
    "# Add your code here"
   ]
  },
  {
   "cell_type": "code",
   "execution_count": null,
   "metadata": {},
   "outputs": [],
   "source": []
  }
 ],
 "metadata": {
  "kernelspec": {
   "display_name": "Python 3",
   "language": "python",
   "name": "python3"
  },
  "language_info": {
   "codemirror_mode": {
    "name": "ipython",
    "version": 3
   },
   "file_extension": ".py",
   "mimetype": "text/x-python",
   "name": "python",
   "nbconvert_exporter": "python",
   "pygments_lexer": "ipython3",
   "version": "3.7.2"
  }
 },
 "nbformat": 4,
 "nbformat_minor": 4
}
