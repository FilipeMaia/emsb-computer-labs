{
 "cells": [
  {
   "cell_type": "markdown",
   "metadata": {},
   "source": [
    "# Exercise 4. Diffraction\n",
    "In this exercise, the end goal is to calculate the X-ray diffraction of an actual protein as collected by a detector. We will however start more simply with just the diffraction of two point scatterers."
   ]
  },
  {
   "cell_type": "code",
   "execution_count": null,
   "metadata": {},
   "outputs": [],
   "source": [
    "%matplotlib inline\n",
    "from numpy import *\n",
    "from matplotlib.pyplot import *\n",
    "from emsb import *"
   ]
  },
  {
   "cell_type": "markdown",
   "metadata": {},
   "source": [
    "## Detector example"
   ]
  },
  {
   "cell_type": "markdown",
   "metadata": {},
   "source": [
    "One nice thing about using a computer is that we can calculate the diffraction for all the pixels in a detector at the same time. To our help we will use the function <code>detector_coordinates</code> to provide three matrices that contain respectively the x, y and z coordinates for every pixel of the detector. Have a look at the following example to see how it works for a tiny detector with only 5x5 pixels."
   ]
  },
  {
   "cell_type": "code",
   "execution_count": null,
   "metadata": {},
   "outputs": [],
   "source": [
    "x, y, z = detector_coordinates(distance=10, pixel_size=2, shape=(5, 5))\n",
    "print(\"x = \")\n",
    "print(x)\n",
    "print(\"y = \")\n",
    "print(y)\n",
    "print(\"z = \")\n",
    "print(z)"
   ]
  },
  {
   "cell_type": "markdown",
   "metadata": {},
   "source": [
    "Now we can do calculations using x, y and z and the calculations will be performed for all pixels at the same time. Say that we want to calculate the distance from each pixel to the center of the detector. The slow way would be to go through every pixel, find it's x and y coordinate and then calculate the distance by <code>sqrt(x\\*\\*2+y\\*\\*2)</code>. (In python, <code>a**b</code> means a to the power of b).<br><br>\n",
    "However, with the matrices created above, we could do this calculation for all pixels at the same time, as shown in the next cell. Isn't that awesome? Feel free to play around with this here until you are comfortable with it."
   ]
  },
  {
   "cell_type": "code",
   "execution_count": null,
   "metadata": {},
   "outputs": [],
   "source": [
    "print(x + y)"
   ]
  },
  {
   "cell_type": "markdown",
   "metadata": {},
   "source": [
    "\n",
    "\n",
    "## Exercise 4a. Setup\n",
    "Before we start calculating anything we need to set up some parameters that describe the experimental setup. These are the wavelength, number of pixels in the detector, size of each pixel and the distance to the detector. We will assume that the detector is centered around the incoming beam and is aligned perpendicular to it. Choose values for the parameters in the next cell that you think would make sense for imaging a protein. As a hint, try to make the maximum resolution around 1.5 Å. If you need inspiration you could maybe look at some of the exercises from the lectures. To make the calculations reasonably fast, don't make the detector larger than 128x128 pixels."
   ]
  },
  {
   "cell_type": "code",
   "execution_count": null,
   "metadata": {},
   "outputs": [],
   "source": [
    "# Fill in your values below\n",
    "wavelength = \n",
    "npixels = \n",
    "pixel_size = \n",
    "detector_distance = "
   ]
  },
  {
   "cell_type": "code",
   "execution_count": null,
   "metadata": {},
   "outputs": [],
   "source": [
    "# Calculate what resolution you would \n",
    "resolution = \n",
    "print(resolution*1e10, \"Å\");"
   ]
  },
  {
   "cell_type": "markdown",
   "metadata": {},
   "source": [
    "We will now create the three matrices that contain respectively the x, y and z coordinates for all the pixels in the detector. Use the function <code>detector_coordinates</code> introduced above."
   ]
  },
  {
   "cell_type": "code",
   "execution_count": null,
   "metadata": {},
   "outputs": [],
   "source": [
    "# Setup the detector coordinates\n",
    "detector_x, detector_y, detector_z = "
   ]
  },
  {
   "cell_type": "markdown",
   "metadata": {},
   "source": [
    "## Exercise 4b. Scattering vectors\n",
    "As you know from the lectures, to calculate diffraction we will have to know the incoming wave vector, $\\vec{s}_0$, the outgoing wave vector, $\\vec{s}_1$, and the scattering vector $\\vec{S}$. So the next step is to calculate these. I have created the names of the x, y and z components of these in the next cell but you will have to complete the lines yourself.<br><br>\n",
    "You will quickly realize that while $\\vec{s}_0$ only has one value, $\\vec{s}_1$ will be different for each pixel (if you don't realize why, stop for a while and maybe try to draw the detector geometry and the wave vectors). This shouldn't however make the calculations any harder since you can use the coordinate matrices defined above."
   ]
  },
  {
   "cell_type": "code",
   "execution_count": null,
   "metadata": {},
   "outputs": [],
   "source": [
    "# Fill in the lines below. Use the parameters created above when appropriate\n",
    "s0_x = \n",
    "s0_y = \n",
    "s0_z = \n",
    "s1_x = \n",
    "s1_y = \n",
    "s1_z = \n",
    "S_x = \n",
    "S_y = \n",
    "S_z = "
   ]
  },
  {
   "cell_type": "markdown",
   "metadata": {},
   "source": [
    "## Exercise 4c. Scattering from two point sources.\n",
    "We now have everything in place to start actually calculating some diffraction patterns. We will start with two point scatterers at positions $\\vec{r}_1$ and $\\vec{r}_2$. In the next couple of cells do:<br>\n",
    "1. Choose the coordinates of the points so that they are a couple of Ångströms apart in x or y.\n",
    "2. Calculate the diffraction from each of the points separately. (This is a tricky part so make sure to make use of your lecture notes and the mentors if you get stuck)\n",
    "3. Calculate the combined field from $\\vec{r}_1$ and $\\vec{r}_2$ and convert the field to diffraction intensities.\n",
    "4. Plot the diffraction intensities"
   ]
  },
  {
   "cell_type": "code",
   "execution_count": null,
   "metadata": {},
   "outputs": [],
   "source": [
    "r1_x = \n",
    "r1_y = \n",
    "r1_z = \n",
    "r2_x = \n",
    "r2_y = \n",
    "r2_z = "
   ]
  },
  {
   "cell_type": "code",
   "execution_count": null,
   "metadata": {},
   "outputs": [],
   "source": [
    "diffraction_from_r1 = \n",
    "diffraction_from_r2 = "
   ]
  },
  {
   "cell_type": "code",
   "execution_count": null,
   "metadata": {},
   "outputs": [],
   "source": [
    "total_diffraction = diffraction_from_r1 + diffraction_from_r2"
   ]
  },
  {
   "cell_type": "code",
   "execution_count": null,
   "metadata": {},
   "outputs": [],
   "source": [
    "imshow(abs(total_diffraction)**2)"
   ]
  },
  {
   "cell_type": "markdown",
   "metadata": {},
   "source": [
    "## Exercise 4d. Structure factors\n",
    "So far we have assumed that our scatterers are perfect point sources that scatter the X-rays equally in all directions. Now let's change that assumption and instead make them into atoms. We know that atoms have internal structure and this will cause them to scatter more in the forward direction and less at higher scattering angles. The exact distribution is given by what's called the atom's structure factor.<br><br>\n",
    "\n",
    "You can access the structure factor using the function <code>structure_factor(element, S_abs)</code>. <code>element</code> here is the atom species given as a string, for example \"C\" or \"O\". <code>S_abs</code> is the absolute value of the scattering vector, and can be given as a matrix to do the calculation for the entire matrix at once.<br><br>\n",
    "\n",
    "Redo the calculation above, but choose an atom species for each of the two scatterers and multiply the contribution from that atom with the corresponding structure factor. (The function <code>structure_factor</code> that we are using only supports the common elements \"C\", \"N\", \"O\", \"P\" and \"S\" so make sure that you choose among those.)"
   ]
  },
  {
   "cell_type": "code",
   "execution_count": null,
   "metadata": {},
   "outputs": [],
   "source": []
  },
  {
   "cell_type": "markdown",
   "metadata": {},
   "source": [
    "## Exercise 4e. More atoms\n",
    "Now increase the number of atoms from 2 to 4. Try different arrangements and try to make the pattern more complex than the one in the previous exercise."
   ]
  },
  {
   "cell_type": "code",
   "execution_count": null,
   "metadata": {},
   "outputs": [],
   "source": []
  },
  {
   "cell_type": "markdown",
   "metadata": {},
   "source": [
    "## Exercise 4f. Protein diffraction\n",
    "Now it's finally time to bring it all together by loading an actual protein from a pdb file and calculate a diffraction pattern from it.<br><br>\n",
    "\n",
    "First you need to choose a protein to work with. There is a lysozyme available in <code>\"data/5lyz.pdb\"</code> which you can use, but if you prefer to download your favourite protein from the pdb then that's a bit more fun. Just don't pick a protein that's too large because the calculations might take too long, below 50 kDa is ideal.<br><br>\n",
    "\n",
    "You can read the atomic positions and the elements using <code>read_pdb(file_name)</code> which is illustrated in the next cell."
   ]
  },
  {
   "cell_type": "code",
   "execution_count": null,
   "metadata": {},
   "outputs": [],
   "source": [
    "pos_x, pos_y, pos_z, element = read_pdb(\"data/5lyz.pdb\")"
   ]
  },
  {
   "cell_type": "markdown",
   "metadata": {},
   "source": [
    "Instead of going through all atoms by hand you will have to make a for loop that cycles through them. If you haven't come across for loops in python before, feel free to google or ask the mentors. In the next cell I have only given you the empty matrix into which you can add the contribution from all the atoms but you have to create the rest yourself. Good luck!"
   ]
  },
  {
   "cell_type": "code",
   "execution_count": null,
   "metadata": {},
   "outputs": [],
   "source": [
    "diffraction = zeros(detector_x.shape, dtype=\"complex128\")"
   ]
  },
  {
   "cell_type": "markdown",
   "metadata": {},
   "source": [
    "Finally plot the result. You might have to use a logarithmic scale to see most of the pattern. You can do that with <code>imshow(intensities, log=True)</code>. Now admire your simulation!"
   ]
  },
  {
   "cell_type": "code",
   "execution_count": null,
   "metadata": {},
   "outputs": [],
   "source": []
  },
  {
   "cell_type": "code",
   "execution_count": null,
   "metadata": {},
   "outputs": [],
   "source": []
  }
 ],
 "metadata": {
  "kernelspec": {
   "display_name": "Python 3",
   "language": "python",
   "name": "python3"
  },
  "language_info": {
   "codemirror_mode": {
    "name": "ipython",
    "version": 3
   },
   "file_extension": ".py",
   "mimetype": "text/x-python",
   "name": "python",
   "nbconvert_exporter": "python",
   "pygments_lexer": "ipython3",
   "version": "3.7.2"
  }
 },
 "nbformat": 4,
 "nbformat_minor": 4
}
