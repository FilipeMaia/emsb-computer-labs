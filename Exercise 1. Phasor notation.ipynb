{
 "cells": [
  {
   "cell_type": "markdown",
   "metadata": {},
   "source": [
    "# Exercise 1.Phasor notation\n",
    "In this exercise we will experiment with the phasor notation which is a convenient way to represent waves as complex numbers.\n",
    "\n",
    "For this, and the later exercises, we will be using Jupyter notebooks, which execute python code. If you are not used to python programming, don't worry, the focus in these exercises is on understanding the content and therefore the\n",
    "small programming aspects of it are explained when needed. If we missed an explanation or if anything is unclear, let one of the teachers know and they can hopefully explain it to you.\n",
    "\n",
    "A jupyter notebook is made up of cells of either text (like this cell) or code (like the next cell). For the cells containing code you can press Shift+Enter when in the cell to execute the code. <b>Try it on the next cell</b>, which imports a few libraries that we will need for the rest of the task. When the code is running you will see a * in the brackets to the left of the cell and when it finishes it will be replaced by a number."
   ]
  },
  {
   "cell_type": "code",
   "execution_count": null,
   "metadata": {},
   "outputs": [],
   "source": [
    "%matplotlib inline\n",
    "from numpy import *\n",
    "from emsb import *"
   ]
  },
  {
   "cell_type": "markdown",
   "metadata": {},
   "source": [
    "## Exercise 1a\n",
    "Now we will use a tool called the <code>PhasorPlotter</code> to simultaneously plot a wave (to the right) and its phasor (to the left). In this case we add a wave with an amplitude of $1$ and a phase of $\\pi/4$. <b>Try it, again using <code>Shift+Enter</code></b>"
   ]
  },
  {
   "cell_type": "code",
   "execution_count": null,
   "metadata": {},
   "outputs": [],
   "source": [
    "p = PhasorPlotter()\n",
    "p.add_wave(phasor(1, pi/4), \"blue\")"
   ]
  },
  {
   "cell_type": "markdown",
   "metadata": {},
   "source": [
    "Try editing the cell above to plot a second wave together with the first one. Choose your own amplitude and phase for this one, and make sure to give it a different color. You will need to use <code>p.add_wave</code> again. "
   ]
  },
  {
   "cell_type": "markdown",
   "metadata": {},
   "source": [
    "Describe the effect of changing the phase. Write your answer in the next cell. Double click it to start editing and when you are done you can move on by pressing <code>Shift+Enter</code>."
   ]
  },
  {
   "cell_type": "markdown",
   "metadata": {},
   "source": [
    "<b>Answer:</b>\n"
   ]
  },
  {
   "cell_type": "markdown",
   "metadata": {},
   "source": [
    "## Exercise 1b\n",
    "Now we will be calculating the interference between two waves by adding together their phasors. We have already done the calculations but only wave $a$ is currently plotted. <b>Add lines to plot wave $b$ and the interference.</b>"
   ]
  },
  {
   "cell_type": "code",
   "execution_count": null,
   "metadata": {},
   "outputs": [],
   "source": [
    "a = phasor(1, pi/8)\n",
    "b = phasor(1, -pi/8)\n",
    "ab_interference = a + b\n",
    "\n",
    "p = PhasorPlotter()\n",
    "p.add_wave(a, \"blue\")\n",
    "# Add your code below"
   ]
  },
  {
   "cell_type": "markdown",
   "metadata": {},
   "source": [
    "In this plot, how large is the phase difference between the two waves?"
   ]
  },
  {
   "cell_type": "markdown",
   "metadata": {},
   "source": [
    "<b>Answer:</b>\n"
   ]
  },
  {
   "cell_type": "markdown",
   "metadata": {},
   "source": [
    "## Exercise 1c\n",
    "The next cell is empty. Copy the previous code and edit it to make the phase difference twice as large. Does the resulting interfering wave become stronger or weaker?"
   ]
  },
  {
   "cell_type": "code",
   "execution_count": null,
   "metadata": {},
   "outputs": [],
   "source": [
    "# Add your code here"
   ]
  },
  {
   "cell_type": "markdown",
   "metadata": {},
   "source": [
    "<b>Answer:</b>\n"
   ]
  },
  {
   "cell_type": "markdown",
   "metadata": {},
   "source": [
    "## Exercise 1d\n",
    "Now create a phasor with amplitude $1$ and phase $0$ and another one with amplitude $2$ and phase $\\pi/3$. Visualize the two waves and their interference in the same way as above. <b>Roughly how large is the amplitude of the interference?</b>"
   ]
  },
  {
   "cell_type": "code",
   "execution_count": null,
   "metadata": {},
   "outputs": [],
   "source": [
    "# Add your code here"
   ]
  },
  {
   "cell_type": "markdown",
   "metadata": {},
   "source": [
    "<b>Answer:</b>\n"
   ]
  },
  {
   "cell_type": "code",
   "execution_count": null,
   "metadata": {},
   "outputs": [],
   "source": []
  }
 ],
 "metadata": {
  "kernelspec": {
   "display_name": "Python 3",
   "language": "python",
   "name": "python3"
  },
  "language_info": {
   "codemirror_mode": {
    "name": "ipython",
    "version": 3
   },
   "file_extension": ".py",
   "mimetype": "text/x-python",
   "name": "python",
   "nbconvert_exporter": "python",
   "pygments_lexer": "ipython3",
   "version": "3.7.2"
  }
 },
 "nbformat": 4,
 "nbformat_minor": 4
}
